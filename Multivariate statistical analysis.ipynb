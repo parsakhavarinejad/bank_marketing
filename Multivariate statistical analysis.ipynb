{
 "cells": [
  {
   "cell_type": "markdown",
   "id": "f9a22255",
   "metadata": {},
   "source": [
    "# Exploratory Data Analysis (EDA)\n",
    "\n",
    "Firstly, let's load the bank-additional-full.csv data and perform some exploratory data analysis on it. In Python, we can use the Pandas library to load and manipulate datasets. Here's  code:"
   ]
  },
  {
   "cell_type": "code",
   "execution_count": 59,
   "id": "a1b4a585",
   "metadata": {
    "scrolled": false
   },
   "outputs": [
    {
     "name": "stdout",
     "output_type": "stream",
     "text": [
      "   age        job  marital    education  default housing loan    contact  \\\n",
      "0   56  housemaid  married     basic.4y       no      no   no  telephone   \n",
      "1   57   services  married  high.school  unknown      no   no  telephone   \n",
      "2   37   services  married  high.school       no     yes   no  telephone   \n",
      "3   40     admin.  married     basic.6y       no      no   no  telephone   \n",
      "4   56   services  married  high.school       no      no  yes  telephone   \n",
      "\n",
      "  month day_of_week  ...  campaign  pdays  previous     poutcome emp.var.rate  \\\n",
      "0   may         mon  ...         1    999         0  nonexistent          1.1   \n",
      "1   may         mon  ...         1    999         0  nonexistent          1.1   \n",
      "2   may         mon  ...         1    999         0  nonexistent          1.1   \n",
      "3   may         mon  ...         1    999         0  nonexistent          1.1   \n",
      "4   may         mon  ...         1    999         0  nonexistent          1.1   \n",
      "\n",
      "   cons.price.idx  cons.conf.idx  euribor3m  nr.employed   y  \n",
      "0          93.994          -36.4      4.857       5191.0  no  \n",
      "1          93.994          -36.4      4.857       5191.0  no  \n",
      "2          93.994          -36.4      4.857       5191.0  no  \n",
      "3          93.994          -36.4      4.857       5191.0  no  \n",
      "4          93.994          -36.4      4.857       5191.0  no  \n",
      "\n",
      "[5 rows x 21 columns]\n",
      "age               0\n",
      "job               0\n",
      "marital           0\n",
      "education         0\n",
      "default           0\n",
      "housing           0\n",
      "loan              0\n",
      "contact           0\n",
      "month             0\n",
      "day_of_week       0\n",
      "duration          0\n",
      "campaign          0\n",
      "pdays             0\n",
      "previous          0\n",
      "poutcome          0\n",
      "emp.var.rate      0\n",
      "cons.price.idx    0\n",
      "cons.conf.idx     0\n",
      "euribor3m         0\n",
      "nr.employed       0\n",
      "y                 0\n",
      "dtype: int64\n",
      "               age      duration      campaign         pdays      previous  \\\n",
      "count  41188.00000  41188.000000  41188.000000  41188.000000  41188.000000   \n",
      "mean      40.02406    258.285010      2.567593    962.475454      0.172963   \n",
      "std       10.42125    259.279249      2.770014    186.910907      0.494901   \n",
      "min       17.00000      0.000000      1.000000      0.000000      0.000000   \n",
      "25%       32.00000    102.000000      1.000000    999.000000      0.000000   \n",
      "50%       38.00000    180.000000      2.000000    999.000000      0.000000   \n",
      "75%       47.00000    319.000000      3.000000    999.000000      0.000000   \n",
      "max       98.00000   4918.000000     56.000000    999.000000      7.000000   \n",
      "\n",
      "       emp.var.rate  cons.price.idx  cons.conf.idx     euribor3m   nr.employed  \n",
      "count  41188.000000    41188.000000   41188.000000  41188.000000  41188.000000  \n",
      "mean       0.081886       93.575664     -40.502600      3.621291   5167.035911  \n",
      "std        1.570960        0.578840       4.628198      1.734447     72.251528  \n",
      "min       -3.400000       92.201000     -50.800000      0.634000   4963.600000  \n",
      "25%       -1.800000       93.075000     -42.700000      1.344000   5099.100000  \n",
      "50%        1.100000       93.749000     -41.800000      4.857000   5191.000000  \n",
      "75%        1.400000       93.994000     -36.400000      4.961000   5228.100000  \n",
      "max        1.400000       94.767000     -26.900000      5.045000   5228.100000  \n"
     ]
    }
   ],
   "source": [
    "import pandas as pd\n",
    "\n",
    "# Load the dataset\n",
    "data = pd.read_csv('bank-additional-full.csv')\n",
    "\n",
    "# Print the first 5 rows of the dataset\n",
    "print(data.head())\n",
    "\n",
    "# Check for missing values\n",
    "print(data.isnull().sum())\n",
    "\n",
    "# Get descriptive statistics of the numerical variables\n",
    "print(data.describe())"
   ]
  },
  {
   "cell_type": "markdown",
   "id": "7797d45c",
   "metadata": {},
   "source": [
    "The above code will load the dataset, print the first 5 rows, check for missing values, and get descriptive statistics of the numerical variables.\n",
    "\n"
   ]
  },
  {
   "cell_type": "markdown",
   "id": "707381b9",
   "metadata": {},
   "source": [
    "# Label Encoding\n",
    "\n",
    "Next, we need to encode the categorical variables using label encoding. Label encoding is a process of converting categorical variables into numerical form so that they can be used in machine learning models. In Python, we can use Scikit-learn's LabelEncoder class to perform label encoding. Here's the code:"
   ]
  },
  {
   "cell_type": "code",
   "execution_count": 60,
   "id": "2b6ba2fd",
   "metadata": {},
   "outputs": [
    {
     "name": "stdout",
     "output_type": "stream",
     "text": [
      "   age  job  marital  education  default  housing  loan  contact  month  \\\n",
      "0   56    3        1          0        0        0     0        1      6   \n",
      "1   57    7        1          3        1        0     0        1      6   \n",
      "2   37    7        1          3        0        2     0        1      6   \n",
      "3   40    0        1          1        0        0     0        1      6   \n",
      "4   56    7        1          3        0        0     2        1      6   \n",
      "\n",
      "   day_of_week  ...  campaign  pdays  previous  poutcome  emp.var.rate  \\\n",
      "0            1  ...         1    999         0         1           1.1   \n",
      "1            1  ...         1    999         0         1           1.1   \n",
      "2            1  ...         1    999         0         1           1.1   \n",
      "3            1  ...         1    999         0         1           1.1   \n",
      "4            1  ...         1    999         0         1           1.1   \n",
      "\n",
      "   cons.price.idx  cons.conf.idx  euribor3m  nr.employed  y  \n",
      "0          93.994          -36.4      4.857       5191.0  0  \n",
      "1          93.994          -36.4      4.857       5191.0  0  \n",
      "2          93.994          -36.4      4.857       5191.0  0  \n",
      "3          93.994          -36.4      4.857       5191.0  0  \n",
      "4          93.994          -36.4      4.857       5191.0  0  \n",
      "\n",
      "[5 rows x 21 columns]\n"
     ]
    }
   ],
   "source": [
    "from sklearn.preprocessing import LabelEncoder\n",
    "\n",
    "# Create a LabelEncoder object\n",
    "le = LabelEncoder()\n",
    "\n",
    "# Encode the categorical variables\n",
    "data['job'] = le.fit_transform(data['job'])\n",
    "data['marital'] = le.fit_transform(data['marital'])\n",
    "data['education'] = le.fit_transform(data['education'])\n",
    "data['default'] = le.fit_transform(data['default'])\n",
    "data['housing'] = le.fit_transform(data['housing'])\n",
    "data['loan'] = le.fit_transform(data['loan'])\n",
    "data['contact'] = le.fit_transform(data['contact'])\n",
    "data['month'] = le.fit_transform(data['month'])\n",
    "data['day_of_week'] = le.fit_transform(data['day_of_week'])\n",
    "data['poutcome'] = le.fit_transform(data['poutcome'])\n",
    "data['y'] = le.fit_transform(data['y'])\n",
    "\n",
    "# Print the first 5 rows of the dataset after encoding\n",
    "print(data.head())\n"
   ]
  },
  {
   "cell_type": "markdown",
   "id": "ffa4c22a",
   "metadata": {},
   "source": [
    "The above code will create a LabelEncoder object, encode the categorical variables, and print the first 5 rows of the dataset after encoding."
   ]
  },
  {
   "cell_type": "markdown",
   "id": "584203fc",
   "metadata": {},
   "source": [
    "# Train Test Split\n",
    "\n",
    "After encoding the dataset, the next step is to split the data into training and testing sets. In Python, we can use Scikit-learn's train_test_split function to perform this operation. Here's the code:"
   ]
  },
  {
   "cell_type": "code",
   "execution_count": 61,
   "id": "5d5fec06",
   "metadata": {},
   "outputs": [
    {
     "name": "stdout",
     "output_type": "stream",
     "text": [
      "Training set shape: (26772, 20) (26772,)\n",
      "Testing set shape: (14416, 20) (14416,)\n"
     ]
    }
   ],
   "source": [
    "from sklearn.model_selection import train_test_split\n",
    "\n",
    "# Split the data into X (features) and y (target)\n",
    "X = data.drop('y', axis=1)\n",
    "y = data['y']\n",
    "\n",
    "# Split the data into training and testing sets with a 65:35 ratio\n",
    "X_train, X_test, y_train, y_test = train_test_split(X, y, test_size=0.35, random_state=42)\n",
    "\n",
    "# Print the shape of the training and testing sets\n",
    "print(\"Training set shape:\", X_train.shape, y_train.shape)\n",
    "print(\"Testing set shape:\", X_test.shape, y_test.shape)\n"
   ]
  },
  {
   "cell_type": "markdown",
   "id": "83acada7",
   "metadata": {},
   "source": [
    "### randomization  👆\n",
    "\n",
    "`random_state = 42` is a parameter commonly used in machine learning algorithms, including scikit-learn, to ensure reproducibility of the results. When this parameter is set to a specific value, such as 42, it will initialize the random number generator used by the algorithm with this seed value. This means that every time the algorithm is run with the same seed value, it will produce the same sequence of random numbers, which in turn will result in the same set of outputs.\n",
    "\n",
    "The way the randomization occurs depends on the specific algorithm being used. However, in general, the algorithm will use a pseudo-random number generator (PRNG) to generate a sequence of apparently random numbers based on a predetermined algorithm. The PRNG generates these numbers deterministically, based on an initial seed value and a mathematical formula, so they are not truly random. However, the resulting sequence appears to be random for practical purposes.\n",
    "\n",
    "By setting the `random_state` parameter to a fixed value, we can ensure that the same sequence of \"random\" numbers is generated each time we run the algorithm. This can be useful for testing and debugging, as well as ensuring that results are consistent across different runs."
   ]
  },
  {
   "cell_type": "markdown",
   "id": "7acf10d4",
   "metadata": {},
   "source": [
    "# PCA"
   ]
  },
  {
   "cell_type": "markdown",
   "id": "ea27899c",
   "metadata": {},
   "source": [
    "This code snippet demonstrates the use of principal component analysis (PCA) to reduce the dimensionality of a dataset.\n",
    "\n",
    "First, the PCA class from the sklearn.decomposition module is imported. Then, the fit_transform() method is called on the training data X_train using the PCA object pca. This applies PCA to the training data and returns the transformed data X_train_pca.\n",
    "\n",
    "Next, a scree plot is generated using matplotlib.pyplot. The scree plot shows the proportion of variance explained by each principal component in descending order. This can help to determine the optimal number of principal components to keep.\n",
    "\n",
    "The code then calculates the cumulative explained variance ratio and selects the optimal number of principal components using an elbow method. Specifically, it chooses the number of components that explain at least 85% of the variance.\n",
    "\n",
    "Finally, the optimal number of components is used to fit a new PCA object to the training data using n_components=num_components. This is then used to transform both the training and test data, reducing their dimensionality. The transformed data is stored in X_train and X_test, respectively."
   ]
  },
  {
   "cell_type": "code",
   "execution_count": 62,
   "id": "a25ae237",
   "metadata": {},
   "outputs": [
    {
     "data": {
      "image/png": "[encoded data removed]",
      "text/plain": [
       "<Figure size 640x480 with 1 Axes>"
      ]
     },
     "metadata": {},
     "output_type": "display_data"
    },
    {
     "name": "stdout",
     "output_type": "stream",
     "text": [
      "the number of components is:  2\n"
     ]
    }
   ],
   "source": [
    "from sklearn.decomposition import PCA\n",
    "import matplotlib.pyplot as plt\n",
    "import numpy as np\n",
    "\n",
    "\n",
    "pca = PCA()\n",
    "X_train_pca = pca.fit_transform(X_train)\n",
    "\n",
    "# Scree plot\n",
    "plt.plot(range(1, pca.n_components_ + 1), pca.explained_variance_ratio_, 'bo-', linewidth=2)\n",
    "plt.title('Scree Plot')\n",
    "plt.xlabel('Principal Component')\n",
    "plt.ylabel('Proportion of Variance Explained')\n",
    "plt.show()\n",
    "\n",
    "# Determine the optimal number of principal components using scree plot\n",
    "pca = PCA()\n",
    "X_train_pca = pca.fit_transform(X_train)\n",
    "variance_ratio = pca.explained_variance_ratio_\n",
    "cumulative_variance_ratio = np.cumsum(variance_ratio)\n",
    "num_components = np.argmax(cumulative_variance_ratio >= 0.85) + 1  # Choose the number of components that explain at least 85% of the variance\n",
    "print('the number of components is: ', num_components)\n",
    "\n",
    "# Apply PCA with the optimal number of components\n",
    "pca = PCA(n_components=num_components)\n",
    "X_train = pca.fit_transform(X_train)\n",
    "X_test = pca.transform(X_test)"
   ]
  },
  {
   "cell_type": "markdown",
   "id": "56b3fec1",
   "metadata": {},
   "source": [
    "# Logistic Regression Model\n",
    "\n",
    "Now that we have our training and testing sets, we can build a logistic regression model. Logistic regression is a method for analyzing a dataset in which there are one or more independent variables that determine an outcome. It is commonly used for binary classification problems. In Python, we can use Scikit-learn's LogisticRegression class to build the model. Here's The code:"
   ]
  },
  {
   "cell_type": "code",
   "execution_count": 63,
   "id": "f05f51bb",
   "metadata": {
    "scrolled": true
   },
   "outputs": [
    {
     "name": "stdout",
     "output_type": "stream",
     "text": [
      "Accuracy score: 0.904550499445061\n",
      "The coefficients are: [[0.00406577 0.002926  ]]\n",
      "The intercept is: [-2.53069226]\n"
     ]
    }
   ],
   "source": [
    "from sklearn.linear_model import LogisticRegression\n",
    "\n",
    "# Create a Logistic Regression object\n",
    "lr = LogisticRegression()\n",
    "\n",
    "# Fit the model using the training data\n",
    "lr.fit(X_train, y_train)\n",
    "\n",
    "# Find the coefficients\n",
    "coefs = lr.coef_\n",
    "intercept = lr.intercept_\n",
    "# Predict the target variable using the testing data\n",
    "y_pred = lr.predict(X_test)\n",
    "\n",
    "# Print the accuracy score of the model\n",
    "print(\"Accuracy score:\", lr.score(X_test, y_test))\n",
    "print(\"The coefficients are: {}\".format(coefs))\n",
    "print(\"The intercept is: {}\".format(intercept))"
   ]
  },
  {
   "cell_type": "markdown",
   "id": "ae03a085",
   "metadata": {},
   "source": [
    "The above code will create a Logistic Regression object, fit the model using the training data, predict the target variable using the testing data, and print the accuracy score of the model."
   ]
  },
  {
   "cell_type": "markdown",
   "id": "799a41d4",
   "metadata": {},
   "source": [
    "# Summary of the Model\n",
    "\n",
    "We can get a summary of the logistic regression model using the statsmodels library. Here's The example code:"
   ]
  },
  {
   "cell_type": "code",
   "execution_count": 64,
   "id": "0eeab948",
   "metadata": {},
   "outputs": [],
   "source": [
    "import statsmodels.api as sm"
   ]
  },
  {
   "cell_type": "code",
   "execution_count": 65,
   "id": "7400dd5d",
   "metadata": {},
   "outputs": [
    {
     "name": "stdout",
     "output_type": "stream",
     "text": [
      "Optimization terminated successfully.\n",
      "         Current function value: 0.258725\n",
      "         Iterations 7\n",
      "                           Logit Regression Results                           \n",
      "==============================================================================\n",
      "Dep. Variable:                      y   No. Observations:                26772\n",
      "Model:                          Logit   Df Residuals:                    26769\n",
      "Method:                           MLE   Df Model:                            2\n",
      "Date:                Fri, 23 Jun 2023   Pseudo R-squ.:                  0.2634\n",
      "Time:                        21:30:25   Log-Likelihood:                -6926.6\n",
      "converged:                       True   LL-Null:                       -9403.9\n",
      "Covariance Type:            nonrobust   LLR p-value:                     0.000\n",
      "==============================================================================\n",
      "                 coef    std err          z      P>|z|      [0.025      0.975]\n",
      "------------------------------------------------------------------------------\n",
      "const         -2.5307      0.026    -97.373      0.000      -2.582      -2.480\n",
      "x1             0.0041   7.74e-05     52.512      0.000       0.004       0.004\n",
      "x2             0.0029   7.52e-05     38.889      0.000       0.003       0.003\n",
      "==============================================================================\n"
     ]
    }
   ],
   "source": [
    "# Add a constant column to the X_train dataset\n",
    "X_train_sm = sm.add_constant(X_train)\n",
    "\n",
    "# Create a Logistic Regression object using statsmodels\n",
    "lr_sm = sm.Logit(y_train, X_train_sm)\n",
    "\n",
    "# Fit the model using the training data\n",
    "lr_sm_fit = lr_sm.fit()\n",
    "\n",
    "# Print the summary of the model\n",
    "print(lr_sm_fit.summary())"
   ]
  },
  {
   "cell_type": "markdown",
   "id": "e008ddf2",
   "metadata": {},
   "source": [
    "# Discriminant Analysis\n",
    "\n",
    "Another classification method we can use is discriminant analysis. Discriminant analysis is a statistical technique used to identify the underlying factors that differentiate between two or more groups. In Python, we can use Scikit-learn's LinearDiscriminantAnalysis class to perform discriminant analysis. Here's theexample code:"
   ]
  },
  {
   "cell_type": "code",
   "execution_count": 66,
   "id": "816bb2df",
   "metadata": {},
   "outputs": [
    {
     "name": "stdout",
     "output_type": "stream",
     "text": [
      "Accuracy score: 0.9025388457269701\n"
     ]
    }
   ],
   "source": [
    "from sklearn.discriminant_analysis import LinearDiscriminantAnalysis\n",
    "\n",
    "# Create a Linear Discriminant Analysis object\n",
    "lda = LinearDiscriminantAnalysis()\n",
    "\n",
    "# Fit the model using the training data\n",
    "lda.fit(X_train, y_train)\n",
    "\n",
    "# Predict the target variable using the testing data\n",
    "y_pred_lda = lda.predict(X_test)\n",
    "\n",
    "# Print the accuracy score of the model\n",
    "print(\"Accuracy score:\", lda.score(X_test, y_test))"
   ]
  },
  {
   "cell_type": "markdown",
   "id": "3e9669e0",
   "metadata": {},
   "source": [
    "The above code will create a Linear Discriminant Analysis object, fit the model using the training data, predict the target variable using the testing data, and print the accuracy score of the model."
   ]
  },
  {
   "cell_type": "markdown",
   "id": "a46266a8",
   "metadata": {},
   "source": [
    "# Evaluation of the Model\n",
    "\n",
    "To evaluate the performance of the logistic regression and discriminant analysis models, we can use metrics such as accuracy score, precision, recall, and F1-score. In Python, we can use Scikit-learn's classification_report function to get these metrics. Here's an example code:"
   ]
  },
  {
   "cell_type": "code",
   "execution_count": 67,
   "id": "ec4d9409",
   "metadata": {
    "scrolled": true
   },
   "outputs": [
    {
     "name": "stdout",
     "output_type": "stream",
     "text": [
      "Logistic Regression\n",
      "              precision    recall  f1-score   support\n",
      "\n",
      "           0       0.92      0.98      0.95     12782\n",
      "           1       0.65      0.34      0.45      1634\n",
      "\n",
      "    accuracy                           0.90     14416\n",
      "   macro avg       0.79      0.66      0.70     14416\n",
      "weighted avg       0.89      0.90      0.89     14416\n",
      "\n",
      "Linear Discriminant Analysis\n",
      "              precision    recall  f1-score   support\n",
      "\n",
      "           0       0.93      0.97      0.95     12782\n",
      "           1       0.61      0.39      0.48      1634\n",
      "\n",
      "    accuracy                           0.90     14416\n",
      "   macro avg       0.77      0.68      0.71     14416\n",
      "weighted avg       0.89      0.90      0.89     14416\n",
      "\n"
     ]
    }
   ],
   "source": [
    "from sklearn.metrics import classification_report\n",
    "\n",
    "# Print the classification report for logistic regression model\n",
    "print(\"Logistic Regression\")\n",
    "print(classification_report(y_test, y_pred))\n",
    "\n",
    "# Print the classification report for LDA model\n",
    "print(\"Linear Discriminant Analysis\")\n",
    "print(classification_report(y_test, y_pred_lda))"
   ]
  },
  {
   "cell_type": "markdown",
   "id": "54fe80b0",
   "metadata": {},
   "source": [
    "The above code will print the classification report for both the logistic regression and LDA models. The classification report includes information such as precision, recall, F1-score, and support for each class."
   ]
  }
 ],
 "metadata": {
  "kernelspec": {
   "display_name": "Python 3 (ipykernel)",
   "language": "python",
   "name": "python3"
  },
  "language_info": {
   "codemirror_mode": {
    "name": "ipython",
    "version": 3
   },
   "file_extension": ".py",
   "mimetype": "text/x-python",
   "name": "python",
   "nbconvert_exporter": "python",
   "pygments_lexer": "ipython3",
   "version": "3.8.16"
  }
 },
 "nbformat": 4,
 "nbformat_minor": 5
}
